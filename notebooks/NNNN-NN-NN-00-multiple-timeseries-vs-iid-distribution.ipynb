{
 "cells": [
  {
   "cell_type": "markdown",
   "id": "0",
   "metadata": {},
   "source": [
    "# NNNN-NN-NN-00-multiple-timeseries-vs-iid-distribution\n",
    "\n",
    "Quick Note(s)\n",
    "- For speed, I used ChatGPT to design the simulation, based on some quick instructions that I wanted \n",
    "    - a Matern 5/2 covariance function.\n",
    "    - unique hyperparmater values for each time series (signal mean, signal variance, signal noise, and volatilty)   \n",
    "- This isn't how I would have written the sim (for better or worse)...but it made the timeseries which is good enough to illustrate the point we want to make.\n",
    "- ...and by \"not how I would have written it\" I mean, \"Argh, this is painfully bulky\"...but still it gets the job done & it's totally stand-alone so not worth the time to fix for a quick demonstration of the concept."
   ]
  },
  {
   "cell_type": "code",
   "execution_count": null,
   "id": "1",
   "metadata": {},
   "outputs": [],
   "source": [
    "import numpy as np\n",
    "import pandas as pd\n",
    "from scipy.spatial.distance import cdist\n",
    "import matplotlib.pyplot as plt\n"
   ]
  },
  {
   "cell_type": "code",
   "execution_count": null,
   "id": "2",
   "metadata": {},
   "outputs": [],
   "source": [
    "\n",
    "\n",
    "def matern52_cov(t, tau2=1.0, lam=1.0):\n",
    "    \"\"\"\n",
    "    Matérn 5/2 with rate λ (not length-scale).\n",
    "    k(r) = τ² * (1 + a + a²/3) * exp(-a), where a = λ * r\n",
    "    If you prefer length-scale ℓ, set λ = sqrt(5) / ℓ.\n",
    "    \"\"\"\n",
    "    t = np.asarray(t, dtype=float).reshape(-1, 1)\n",
    "    d = cdist(t, t, metric='euclidean')\n",
    "    a = lam * d\n",
    "    K = tau2 * (1.0 + a + (a**2)/3.0) * np.exp(-a)\n",
    "    return K\n",
    "\n",
    "def sample_gp_matern52(\n",
    "    n_time=1000,\n",
    "    n_series=50,\n",
    "    mu=0.0,           # scalar or array length n_series\n",
    "    tau2=1.0,         # scalar or array length n_series  (signal variance)\n",
    "    sigma=0.1,        # scalar or array length n_series  (obs noise std)\n",
    "    lam=1.0,          # scalar or array length n_series  (volatility rate)\n",
    "    t=None,\n",
    "    jitter=1e-8,\n",
    "    seed=0\n",
    "):\n",
    "    \"\"\"\n",
    "    Returns: pandas.DataFrame of shape (n_time, n_series), columns S00..S{n_series-1}\n",
    "    Each column y_t = f_t + ε_t with f ~ GP(μ, k_M52(τ², λ)) and ε_t ~ N(0, σ²).\n",
    "    \"\"\"\n",
    "    rng = np.random.default_rng(seed)\n",
    "    if t is None:\n",
    "        t = np.arange(n_time, dtype=float)\n",
    "    t = np.asarray(t, dtype=float)\n",
    "\n",
    "    # Broadcast series-wise hyperparams\n",
    "    def to_arr(x):\n",
    "        x = np.asarray(x)\n",
    "        if x.ndim == 0:\n",
    "            x = np.repeat(x, n_series)\n",
    "        assert len(x) == n_series, \"Per-series hyperparameter length must equal n_series\"\n",
    "        return x\n",
    "\n",
    "    mu_arr   = to_arr(mu)\n",
    "    tau2_arr = to_arr(tau2)\n",
    "    sigma_arr= to_arr(sigma)\n",
    "    lam_arr  = to_arr(lam)\n",
    "\n",
    "    Y = np.empty((n_time, n_series))\n",
    "    I = np.eye(n_time)\n",
    "\n",
    "    for j in range(n_series):\n",
    "        K = matern52_cov(t, tau2=tau2_arr[j], lam=lam_arr[j])\n",
    "        # Sample latent f via Cholesky\n",
    "        L = np.linalg.cholesky(K + jitter * I)\n",
    "        f = mu_arr[j] + L @ rng.normal(size=n_time)\n",
    "        y = f + rng.normal(scale=sigma_arr[j], size=n_time)\n",
    "        Y[:, j] = y\n",
    "\n",
    "    cols = [f\"S{j:02d}\" for j in range(n_series)]\n",
    "    return pd.DataFrame(Y, index=np.arange(n_time), columns=cols)\n",
    "\n"
   ]
  },
  {
   "cell_type": "code",
   "execution_count": null,
   "id": "3",
   "metadata": {},
   "outputs": [],
   "source": [
    "# # --- Example: wide patient heterogeneity ---\n",
    "# # Means spread out, variances differ, noise differs, and volatility spans smooth→rough.\n",
    "# n_time, n_series = 1000, 50\n",
    "# rng = np.random.default_rng(42)\n",
    "# mu     = rng.normal(loc=75.0,  scale=10.0,  size=n_series)     # different baselines per patient\n",
    "# tau2   = rng.lognormal(mean=-0.2, sigma=0.5, size=n_series)  # signal variance\n",
    "# sigma  = rng.lognormal(mean=-1.2, sigma=0.4, size=n_series)  # obs noise std\n",
    "# lam    = rng.lognormal(mean=-2.0, sigma=0.6, size=n_series)  # volatility (higher = rougher)\n",
    "\n",
    "# df_timeseries = sample_gp_matern52(n_time, n_series, mu=mu, tau2=tau2, sigma=sigma, lam=lam, seed=123)\n"
   ]
  },
  {
   "cell_type": "code",
   "execution_count": null,
   "id": "4",
   "metadata": {},
   "outputs": [],
   "source": [
    "import numpy as np\n",
    "import matplotlib.pyplot as plt\n",
    "from scipy.stats import norm, lognorm\n",
    "\n",
    "# ---- Store sampling parameters (same ones you described) ----\n",
    "mu_params    = {\"loc\": 75.0, \"scale\": 10.0}   # Normal(loc, scale)\n",
    "tau2_params  = {\"mean\": 1, \"sigma\": 1}   # LogNormal: ln(X) ~ N(mean, sigma)\n",
    "sigma_params = {\"mean\": 0, \"sigma\": 1}   # LogNormal: ln(X) ~ N(mean, sigma)\n",
    "lam_params   = {\"mean\": 1, \"sigma\": 1}   # LogNormal: ln(X) ~ N(mean, sigma)\n",
    "\n",
    "# NOTE: scipy.stats.lognorm uses shape s = sigma and scale = exp(mean).\n",
    "def lognorm_rvs_pdf_params(p):\n",
    "    return dict(s=p[\"sigma\"], scale=np.exp(p[\"mean\"]))\n",
    "\n",
    "# ---- Draw samples for your 50 series USING THE SAME PARAMS AS PDFs ----\n",
    "n_time, n_series = 1000, 50\n",
    "rng = np.random.default_rng(42)\n",
    "\n",
    "mu   = norm.rvs(size=n_series, random_state=rng, **mu_params)\n",
    "tau2 = lognorm.rvs(size=n_series, random_state=rng, **lognorm_rvs_pdf_params(tau2_params))\n",
    "sigma= lognorm.rvs(size=n_series, random_state=rng, **lognorm_rvs_pdf_params(sigma_params))\n",
    "lam  = lognorm.rvs(size=n_series, random_state=rng, **lognorm_rvs_pdf_params(lam_params))\n",
    "\n",
    "# (unchanged) simulate the GP series\n",
    "df_timeseries = sample_gp_matern52(n_time, n_series, mu=mu, tau2=tau2, sigma=sigma, lam=lam, seed=123)\n",
    "\n",
    "\n",
    "\n",
    "\n"
   ]
  },
  {
   "cell_type": "markdown",
   "id": "5",
   "metadata": {},
   "source": [
    "# Plots"
   ]
  },
  {
   "cell_type": "code",
   "execution_count": null,
   "id": "6",
   "metadata": {},
   "outputs": [],
   "source": [
    "\"\"\"\n",
    "Plot the sampling parameters to check you're getting the distributions you want\n",
    "\"\"\"\n",
    "\n",
    "# ---- Plot PDFs in a 2x2 grid using scipy.stats ----\n",
    "# Grids: normal over ±4σ, lognormals from near-0 to exp(mean+4*sigma)\n",
    "\n",
    "x_mu    = np.linspace(mu_params[\"loc\"] - 4*mu_params[\"scale\"],\n",
    "                      mu_params[\"loc\"] + 4*mu_params[\"scale\"], 1000)\n",
    "def xgrid_lognorm(p, n=1200):\n",
    "    return np.linspace(1e-6, np.exp(p[\"mean\"] + 4*p[\"sigma\"]), n)\n",
    "\n",
    "x_tau2  = xgrid_lognorm(tau2_params)\n",
    "x_sigma = xgrid_lognorm(sigma_params)\n",
    "x_lam   = xgrid_lognorm(lam_params)\n",
    "\n",
    "fig, axes = plt.subplots(2, 2, figsize=(10, 8))\n",
    "\n",
    "ax = axes[0,0]\n",
    "ax.plot(x_mu, norm.pdf(x_mu, **mu_params))\n",
    "ax.set_title(f\"mu ~ Normal(loc={mu_params['loc']}, scale={mu_params['scale']})\")\n",
    "ax.set_xlabel(\"mu\"); ax.set_ylabel(\"PDF\"); ax.grid(True, ls=\":\", alpha=0.4)\n",
    "\n",
    "ax = axes[0,1]\n",
    "ax.plot(x_tau2, lognorm.pdf(x_tau2, **lognorm_rvs_pdf_params(tau2_params)))\n",
    "ax.set_title(f\"tau2 ~ LogNormal(mean={tau2_params['mean']}, sigma={tau2_params['sigma']})\")\n",
    "ax.set_xlabel(\"tau2\"); ax.set_ylabel(\"PDF\"); ax.grid(True, ls=\":\", alpha=0.4)\n",
    "\n",
    "ax = axes[1,0]\n",
    "ax.plot(x_sigma, lognorm.pdf(x_sigma, **lognorm_rvs_pdf_params(sigma_params)))\n",
    "ax.set_title(f\"sigma ~ LogNormal(mean={sigma_params['mean']}, sigma={sigma_params['sigma']})\")\n",
    "ax.set_xlabel(\"sigma\"); ax.set_ylabel(\"PDF\"); ax.grid(True, ls=\":\", alpha=0.4)\n",
    "\n",
    "ax = axes[1,1]\n",
    "ax.plot(x_lam, lognorm.pdf(x_lam, **lognorm_rvs_pdf_params(lam_params)))\n",
    "ax.set_title(f\"lam ~ LogNormal(mean={lam_params['mean']}, sigma={lam_params['sigma']})\")\n",
    "ax.set_xlabel(\"lam\"); ax.set_ylabel(\"PDF\"); ax.grid(True, ls=\":\", alpha=0.4)\n",
    "\n",
    "fig.tight_layout()"
   ]
  },
  {
   "cell_type": "code",
   "execution_count": null,
   "id": "7",
   "metadata": {},
   "outputs": [],
   "source": [
    "plt.figure(figsize=(10,5))\n",
    "order = df_timeseries.median().sort_values().index  # use ascending medians\n",
    "for i, col in enumerate(order, start=1):\n",
    "    plt.plot([i]*len(df_timeseries), df_timeseries[col].values, '.b', ms=2, alpha=0.25)\n",
    "\n",
    "plt.xticks(range(1, len(order)+1), order, rotation=90)\n",
    "plt.xlim(0.5, len(order)+0.5)\n",
    "plt.xlabel(\"Series\"); plt.ylabel(\"Value\"); plt.grid(axis='y', ls=':', alpha=0.4)\n"
   ]
  },
  {
   "cell_type": "code",
   "execution_count": null,
   "id": "8",
   "metadata": {},
   "outputs": [],
   "source": [
    "df_timeseries"
   ]
  },
  {
   "cell_type": "code",
   "execution_count": null,
   "id": "9",
   "metadata": {},
   "outputs": [],
   "source": []
  },
  {
   "cell_type": "code",
   "execution_count": null,
   "id": "10",
   "metadata": {},
   "outputs": [],
   "source": []
  },
  {
   "cell_type": "code",
   "execution_count": null,
   "id": "11",
   "metadata": {},
   "outputs": [],
   "source": [
    "plt.plot( df.index , df[\"S00\"] , \".\")"
   ]
  },
  {
   "cell_type": "code",
   "execution_count": null,
   "id": "12",
   "metadata": {},
   "outputs": [],
   "source": [
    "plt.plot( df.index , df[\"S39\"] , \".\")"
   ]
  },
  {
   "cell_type": "code",
   "execution_count": null,
   "id": "13",
   "metadata": {},
   "outputs": [],
   "source": []
  }
 ],
 "metadata": {
  "kernelspec": {
   "display_name": "ml_projects_general_py310",
   "language": "python",
   "name": "python3"
  },
  "language_info": {
   "codemirror_mode": {
    "name": "ipython",
    "version": 3
   },
   "file_extension": ".py",
   "mimetype": "text/x-python",
   "name": "python",
   "nbconvert_exporter": "python",
   "pygments_lexer": "ipython3",
   "version": "3.10.13"
  }
 },
 "nbformat": 4,
 "nbformat_minor": 5
}
