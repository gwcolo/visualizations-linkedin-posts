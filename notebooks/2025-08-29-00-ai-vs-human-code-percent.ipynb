{
 "cells": [
  {
   "cell_type": "markdown",
   "id": "0",
   "metadata": {},
   "source": [
    "# 000_00_venn-diagram-ai-code-percent\n",
    "- A riff on the headline \"Anthropic's CEO says that in 3 to 6 months, AI will be writing 90% of the code software developers were in charge of\" from Business Insider on Mar 14, 2025, 2:27 AM ET\n",
    "- Source: https://www.businessinsider.com/anthropic-ceo-ai-90-percent-code-3-to-6-months-2025-3\n",
    "- It's now 6 months.\n",
    "- Let's draw of picture....\n"
   ]
  },
  {
   "cell_type": "markdown",
   "id": "1",
   "metadata": {},
   "source": [
    "# Imports"
   ]
  },
  {
   "cell_type": "code",
   "execution_count": null,
   "id": "2",
   "metadata": {},
   "outputs": [],
   "source": [
    "import matplotlib.pyplot as plt\n",
    "from matplotlib.patches import Circle, Patch\n",
    "import math"
   ]
  },
  {
   "cell_type": "markdown",
   "id": "3",
   "metadata": {},
   "source": [
    "# Plots"
   ]
  },
  {
   "cell_type": "code",
   "execution_count": null,
   "id": "4",
   "metadata": {},
   "outputs": [],
   "source": [
    "\"\"\"\n",
    "Define color combos\n",
    "Each combo = (all_code_color, ai_code_color)\n",
    "\"\"\"\n",
    "\n",
    "color_options = {\n",
    "    1: (\"#1D3557\", \"#F77F00\"),  # Option A – Navy + Orange\n",
    "    2: (\"#3C3C82\", \"#2A9D8F\"),  # Option B – Indigo + Teal\n",
    "    3: (\"#333333\", \"#E76F51\"),  # Option C – Charcoal + Coral\n",
    "    4: (\"#B0B0B0\", \"#D62828\"),  # Option D – Gray All Code, Warning Red AI\n",
    "}\n",
    "\n",
    "# Pick combo here:\n",
    "color_comb = 3\n",
    "all_color, ai_color = color_options[color_comb]"
   ]
  },
  {
   "cell_type": "code",
   "execution_count": null,
   "id": "5",
   "metadata": {},
   "outputs": [],
   "source": [
    "\"\"\"\n",
    "First Figure: AI inside All Code (90% area)\n",
    "\"\"\"\n",
    "\n",
    "R_outer = 1.0\n",
    "R_inner = math.sqrt(0.075) * R_outer  # ensures area ratio = 0.9\n",
    "\n",
    "fig1, ax1 = plt.subplots(figsize=(6, 6))\n",
    "center = (0, 0)\n",
    "off_center = (-0.03, -0.03)\n",
    "all_code = Circle(center, R_outer, facecolor=all_color, edgecolor=all_color, alpha=1, lw=2)\n",
    "ai_code = Circle(off_center, R_inner, facecolor=ai_color, edgecolor=ai_color, alpha=1, lw=2)\n",
    "\n",
    "ax1.add_patch(all_code)\n",
    "ax1.add_patch(ai_code)\n",
    "ax1.set_aspect(\"equal\", \"box\")\n",
    "ax1.set_xlim(-R_outer - 0.2, R_outer + 0.2)\n",
    "ax1.set_ylim(-R_outer - 0.2, R_outer + 0.2)\n",
    "ax1.axis(\"off\")\n",
    "\n",
    "legend_handles = [\n",
    "    Patch(facecolor=all_color, edgecolor=all_color, alpha=1.0, label=\"All Code\"),\n",
    "    Patch(facecolor=ai_color, edgecolor=ai_color, alpha=1.0, label=\"AI Code\"),\n",
    "]\n",
    "ax1.legend(handles=legend_handles, loc=\"upper center\", bbox_to_anchor=(0.5, 1.08),\n",
    "           ncol=2, frameon=False, fontsize=25)\n",
    "\n",
    "\n"
   ]
  },
  {
   "cell_type": "code",
   "execution_count": null,
   "id": "6",
   "metadata": {},
   "outputs": [],
   "source": [
    "\"\"\"\n",
    "First Figure: AI inside All Code (90% area)\n",
    "\"\"\"\n",
    "\n",
    "R_outer = 1.0\n",
    "R_inner = math.sqrt(0.9) * R_outer  # ensures area ratio = 0.9\n",
    "\n",
    "fig1, ax1 = plt.subplots(figsize=(6, 6))\n",
    "center = (0, 0)\n",
    "off_center = (-0.03, -0.03)\n",
    "all_code = Circle(center, R_outer, facecolor=all_color, edgecolor=all_color, alpha=1, lw=2)\n",
    "ai_code = Circle(off_center, R_inner, facecolor=ai_color, edgecolor=ai_color, alpha=1, lw=2)\n",
    "\n",
    "ax1.add_patch(all_code)\n",
    "ax1.add_patch(ai_code)\n",
    "ax1.set_aspect(\"equal\", \"box\")\n",
    "ax1.set_xlim(-R_outer - 0.2, R_outer + 0.2)\n",
    "ax1.set_ylim(-R_outer - 0.2, R_outer + 0.2)\n",
    "ax1.axis(\"off\")\n",
    "\n",
    "legend_handles = [\n",
    "    Patch(facecolor=all_color, edgecolor=all_color, alpha=1.0, label=\"All Code\"),\n",
    "    Patch(facecolor=ai_color, edgecolor=ai_color, alpha=1.0, label=\"AI Code\"),\n",
    "]\n",
    "ax1.legend(handles=legend_handles, loc=\"upper center\", bbox_to_anchor=(0.5, 1.08),\n",
    "           ncol=2, frameon=False, fontsize=25)\n",
    "\n",
    "\n"
   ]
  },
  {
   "cell_type": "code",
   "execution_count": null,
   "id": "7",
   "metadata": {},
   "outputs": [],
   "source": [
    "\"\"\"\n",
    "Second Figure: Reverse (AI as outer, All Code as smaller inner)\n",
    "\"\"\"\n",
    "\n",
    "R_outer_2 = 1.0\n",
    "R_inner_2 = math.sqrt(0.05) * R_outer_2  # ensures area ratio = 0.1\n",
    "\n",
    "fig2, ax2 = plt.subplots(figsize=(6, 6))\n",
    "ai_code2 = Circle(center, R_outer_2, facecolor=ai_color, edgecolor=ai_color, alpha=1, lw=2)\n",
    "all_code2 = Circle((-.5,-.5), R_inner_2, facecolor=all_color, edgecolor=all_color, alpha=1, lw=2)\n",
    "\n",
    "ax2.add_patch(ai_code2)\n",
    "ax2.add_patch(all_code2)\n",
    "ax2.set_aspect(\"equal\", \"box\")\n",
    "ax2.set_xlim(-R_outer_2 - 0.2, R_outer_2 + 0.2)\n",
    "ax2.set_ylim(-R_outer_2 - 0.2, R_outer_2 + 0.2)\n",
    "ax2.axis(\"off\")\n",
    "\n",
    "legend_handles2 = [\n",
    "    Patch(facecolor=all_color, edgecolor=all_color, alpha=1, label=\"All Code\"),\n",
    "    Patch(facecolor=ai_color, edgecolor=ai_color, alpha=1, label=\"AI Code\"),\n",
    "]\n",
    "ax2.legend(handles=legend_handles2, loc=\"upper center\", bbox_to_anchor=(0.5, 1.08),\n",
    "           ncol=2, frameon=False, fontsize=25)\n",
    "\n",
    "plt.show()"
   ]
  },
  {
   "cell_type": "code",
   "execution_count": null,
   "id": "8",
   "metadata": {},
   "outputs": [],
   "source": []
  },
  {
   "cell_type": "code",
   "execution_count": null,
   "id": "9",
   "metadata": {},
   "outputs": [],
   "source": []
  },
  {
   "cell_type": "code",
   "execution_count": null,
   "id": "10",
   "metadata": {},
   "outputs": [],
   "source": []
  }
 ],
 "metadata": {
  "kernelspec": {
   "display_name": "ml_projects_general_py310",
   "language": "python",
   "name": "ml_projects_general_py310"
  },
  "language_info": {
   "codemirror_mode": {
    "name": "ipython",
    "version": 3
   },
   "file_extension": ".py",
   "mimetype": "text/x-python",
   "name": "python",
   "nbconvert_exporter": "python",
   "pygments_lexer": "ipython3",
   "version": "3.10.13"
  }
 },
 "nbformat": 4,
 "nbformat_minor": 5
}
