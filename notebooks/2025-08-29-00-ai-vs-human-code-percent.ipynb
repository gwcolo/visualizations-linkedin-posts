{
 "cells": [
  {
   "cell_type": "markdown",
   "id": "0",
   "metadata": {},
   "source": [
    "# 2025-08-29-00-ai-vs-human-code-percent\n",
    "- A riff on the headline \"Anthropic's CEO says that in 3 to 6 months, AI will be writing 90% of the code software developers were in charge of\" from Business Insider on Mar 14, 2025, 2:27 AM ET\n",
    "- Source: https://www.businessinsider.com/anthropic-ceo-ai-90-percent-code-3-to-6-months-2025-3\n",
    "- It's now 6 months.\n",
    "- Let's draw of picture....\n"
   ]
  },
  {
   "cell_type": "markdown",
   "id": "1",
   "metadata": {},
   "source": [
    "# Imports"
   ]
  },
  {
   "cell_type": "code",
   "execution_count": null,
   "id": "2",
   "metadata": {},
   "outputs": [],
   "source": [
    "import matplotlib.pyplot as plt\n",
    "from matplotlib.patches import Circle, Patch\n",
    "import math\n",
    "from pathlib import Path\n"
   ]
  },
  {
   "cell_type": "markdown",
   "id": "3",
   "metadata": {},
   "source": [
    "# Functions"
   ]
  },
  {
   "cell_type": "code",
   "execution_count": null,
   "id": "4",
   "metadata": {},
   "outputs": [],
   "source": [
    "# set this to match the notebook filename (without .ipynb)\n",
    "NOTEBOOK_SLUG = \"2025-08-29-00-ai-vs-human-code-percent\"\n",
    "\n",
    "# from notebooks/ → outputs/figures/\n",
    "OUT_DIR = Path(\"../outputs/figures\")\n",
    "\n",
    "def savefig(fig, name, dpi=150, quality=80):\n",
    "    \"\"\"\n",
    "    Save a figure as a small JPEG in outputs/figures/.\n",
    "    name: short suffix for the figure (e.g., 'main', 'alt', 'zoom')\n",
    "    \"\"\"\n",
    "    path = OUT_DIR / f\"{NOTEBOOK_SLUG}-{name}.jpg\"\n",
    "    fig.savefig(\n",
    "        path,\n",
    "        format=\"jpg\",\n",
    "        dpi=dpi,\n",
    "        bbox_inches=\"tight\",\n",
    "        pil_kwargs={\"quality\": quality, \"optimize\": True, \"progressive\": True},\n",
    "    )\n",
    "    print(f\"Saved: {path}\")"
   ]
  },
  {
   "cell_type": "markdown",
   "id": "5",
   "metadata": {},
   "source": [
    "# Plots"
   ]
  },
  {
   "cell_type": "code",
   "execution_count": null,
   "id": "6",
   "metadata": {},
   "outputs": [],
   "source": [
    "\"\"\"\n",
    "Define color combos\n",
    "Each combo = (all_code_color, ai_code_color)\n",
    "\"\"\"\n",
    "\n",
    "color_options = {\n",
    "    1: (\"#1D3557\", \"#F77F00\"),  # Option A – Navy + Orange\n",
    "    2: (\"#3C3C82\", \"#2A9D8F\"),  # Option B – Indigo + Teal\n",
    "    3: (\"#333333\", \"#E76F51\"),  # Option C – Charcoal + Coral\n",
    "    4: (\"#B0B0B0\", \"#D62828\"),  # Option D – Gray All Code, Warning Red AI\n",
    "}\n",
    "\n",
    "# Pick combo here:\n",
    "color_comb = 3\n",
    "all_color, ai_color = color_options[color_comb]\n",
    "\n",
    "# Save Figures?\n",
    "save_figs = True"
   ]
  },
  {
   "cell_type": "code",
   "execution_count": null,
   "id": "7",
   "metadata": {},
   "outputs": [],
   "source": [
    "\"\"\"\n",
    "First Figure: AI inside All Code (7.5% area)\n",
    "\"\"\"\n",
    "\n",
    "R_outer = 1.0\n",
    "R_inner = math.sqrt(0.075) * R_outer  # ensures area ratio = 0.9\n",
    "\n",
    "fig1, ax1 = plt.subplots(figsize=(6, 6))\n",
    "center = (0, 0)\n",
    "off_center = (-0.03, -0.03)\n",
    "all_code = Circle(center, R_outer, facecolor=all_color, edgecolor=all_color, alpha=1, lw=2)\n",
    "ai_code = Circle(off_center, R_inner, facecolor=ai_color, edgecolor=ai_color, alpha=1, lw=2)\n",
    "\n",
    "ax1.add_patch(all_code)\n",
    "ax1.add_patch(ai_code)\n",
    "ax1.set_aspect(\"equal\", \"box\")\n",
    "ax1.set_xlim(-R_outer - 0.2, R_outer + 0.2)\n",
    "ax1.set_ylim(-R_outer - 0.2, R_outer + 0.2)\n",
    "ax1.axis(\"off\")\n",
    "\n",
    "legend_handles = [\n",
    "    Patch(facecolor=all_color, edgecolor=all_color, alpha=1.0, label=\"All Code\"),\n",
    "    Patch(facecolor=ai_color, edgecolor=ai_color, alpha=1.0, label=\"AI Code\"),\n",
    "]\n",
    "ax1.legend(handles=legend_handles, loc=\"upper center\", bbox_to_anchor=(0.5, 1.08),\n",
    "           ncol=2, frameon=False, fontsize=25)\n",
    "\n",
    "\n",
    "if save_figs:\n",
    "    savefig(fig1, \"01\")"
   ]
  },
  {
   "cell_type": "code",
   "execution_count": null,
   "id": "8",
   "metadata": {},
   "outputs": [],
   "source": [
    "\"\"\"\n",
    "Second Figure: AI inside All Code (90% area)\n",
    "\"\"\"\n",
    "\n",
    "R_outer = 1.0\n",
    "R_inner = math.sqrt(0.9) * R_outer  # ensures area ratio = 0.9\n",
    "\n",
    "fig2, ax2 = plt.subplots(figsize=(6, 6))\n",
    "center = (0, 0)\n",
    "off_center = (-0.03, -0.03)\n",
    "all_code = Circle(center, R_outer, facecolor=all_color, edgecolor=all_color, alpha=1, lw=2)\n",
    "ai_code = Circle(off_center, R_inner, facecolor=ai_color, edgecolor=ai_color, alpha=1, lw=2)\n",
    "\n",
    "ax2.add_patch(all_code)\n",
    "ax2.add_patch(ai_code)\n",
    "ax2.set_aspect(\"equal\", \"box\")\n",
    "ax2.set_xlim(-R_outer - 0.2, R_outer + 0.2)\n",
    "ax2.set_ylim(-R_outer - 0.2, R_outer + 0.2)\n",
    "ax2.axis(\"off\")\n",
    "\n",
    "legend_handles = [\n",
    "    Patch(facecolor=all_color, edgecolor=all_color, alpha=1.0, label=\"All Code\"),\n",
    "    Patch(facecolor=ai_color, edgecolor=ai_color, alpha=1.0, label=\"AI Code\"),\n",
    "]\n",
    "ax2.legend(handles=legend_handles, loc=\"upper center\", bbox_to_anchor=(0.5, 1.08),\n",
    "           ncol=2, frameon=False, fontsize=25)\n",
    "\n",
    "\n",
    "if save_figs:\n",
    "    savefig(fig2, \"02\")"
   ]
  },
  {
   "cell_type": "code",
   "execution_count": null,
   "id": "9",
   "metadata": {},
   "outputs": [],
   "source": [
    "\"\"\"\n",
    "Third Figure: Reverse (AI as outer, All Code as smaller inner)\n",
    "\"\"\"\n",
    "\n",
    "R_outer_2 = 1.0\n",
    "R_inner_2 = math.sqrt(0.05) * R_outer_2  # ensures area ratio = 0.1\n",
    "\n",
    "fig3, ax3 = plt.subplots(figsize=(6, 6))\n",
    "ai_code2 = Circle(center, R_outer_2, facecolor=ai_color, edgecolor=ai_color, alpha=1, lw=2)\n",
    "all_code2 = Circle((-.5,-.5), R_inner_2, facecolor=all_color, edgecolor=all_color, alpha=1, lw=2)\n",
    "\n",
    "ax3.add_patch(ai_code2)\n",
    "ax3.add_patch(all_code2)\n",
    "ax3.set_aspect(\"equal\", \"box\")\n",
    "ax3.set_xlim(-R_outer_2 - 0.2, R_outer_2 + 0.2)\n",
    "ax3.set_ylim(-R_outer_2 - 0.2, R_outer_2 + 0.2)\n",
    "ax3.axis(\"off\")\n",
    "\n",
    "legend_handles2 = [\n",
    "    Patch(facecolor=all_color, edgecolor=all_color, alpha=1, label=\"All Code\"),\n",
    "    Patch(facecolor=ai_color, edgecolor=ai_color, alpha=1, label=\"AI Code\"),\n",
    "]\n",
    "ax3.legend(handles=legend_handles2, loc=\"upper center\", bbox_to_anchor=(0.5, 1.08),\n",
    "           ncol=2, frameon=False, fontsize=25)\n",
    "\n",
    "plt.show()\n",
    "\n",
    "if save_figs:\n",
    "    savefig(fig3, \"03\")"
   ]
  }
 ],
 "metadata": {
  "kernelspec": {
   "display_name": "ml_projects_general_py310",
   "language": "python",
   "name": "python3"
  },
  "language_info": {
   "codemirror_mode": {
    "name": "ipython",
    "version": 3
   },
   "file_extension": ".py",
   "mimetype": "text/x-python",
   "name": "python",
   "nbconvert_exporter": "python",
   "pygments_lexer": "ipython3",
   "version": "3.10.13"
  }
 },
 "nbformat": 4,
 "nbformat_minor": 5
}
